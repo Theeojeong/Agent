{
 "cells": [
  {
   "cell_type": "code",
   "execution_count": null,
   "id": "e37fde62",
   "metadata": {},
   "outputs": [
    {
     "name": "stdout",
     "output_type": "stream",
     "text": [
      "Index(['question', 'answer', 'A', 'B', 'C', 'D', 'Category', 'Human Accuracy'], dtype='object')\n"
     ]
    }
   ],
   "source": [
    "import pandas as pd\n",
    "df = pd.read_parquet(\"data/raw/kmmlu_test.parquet\")\n",
    "print(df.columns)"
   ]
  },
  {
   "cell_type": "code",
   "execution_count": 2,
   "id": "cc56bd5c",
   "metadata": {},
   "outputs": [
    {
     "name": "stdout",
     "output_type": "stream",
     "text": [
      "                                            question  answer  \\\n",
      "0                              범죄 측정에 대한 설명으로 옳은 것은?       1   \n",
      "1                      국가의 기능과 관련한 죄에 대한 설명으로 옳은 것은?       4   \n",
      "2  甲은 처乙과 부부싸움을 하다가 화가 나서 폭행의 고의로 乙의 가슴을 세게 밀쳤고, ...       4   \n",
      "\n",
      "                                                   A  \\\n",
      "0  참여 관찰 연구는 조사자의 주관적 편견이 개입할 수 있고, 시간과 비용이 많이 들며...   \n",
      "1  甲이 자기 자신을 무고하기로 제3자와 공모하고 이에 따라 무고 행위에 가담한 경우,...   \n",
      "2                 처乙에 대해서는 폭행치사죄, 집에 대해서는 방화죄가 성립한다.   \n",
      "\n",
      "                                                   B  \\\n",
      "0  인구 대비 범죄 발생 건수를 의미하는 범죄율 (crime rate)은 각 범죄의 가...   \n",
      "1  甲이 허위로 신고한 사실이 무고행위 당시에는 형사처분의 대상이 될 수 있었으나, 이...   \n",
      "2  만약 살인의 고의로 처乙을 실신케 한 후 집에 방화하여 소사케 하였다면 현주건조물방...   \n",
      "\n",
      "                                                   C  \\\n",
      "0  자기 보고식 조사(self-report survey) 는 경미한 범죄보다는 살인 등...   \n",
      "1  甲이 자신에 대한 형사처분이나 징계 처분을 피하기 위하여 증거를 인멸한 것이 동시에...   \n",
      "2  보험금 지급 청구와 관련하여, 허위의 보험금 지급 청구서 작성행위는 사문서의 무형위...   \n",
      "\n",
      "                                                   D      Category  \\\n",
      "0  피해 조사(victimiz ation survey) 는 개인적 보고에 기반하는 점에...  Criminal Law   \n",
      "1  공무원인 甲이 직무 관련자에게 제3자와 계약을 체결하도록 요구하여 계약 체결을 하게...  Criminal Law   \n",
      "2    범행을 은폐하기 위하여 탁자에 불을 붙인 후 밖으로 나왔으므로 증거인멸죄가 성립한다.  Criminal Law   \n",
      "\n",
      "   Human Accuracy  \n",
      "0             0.0  \n",
      "1             0.0  \n",
      "2             0.0  \n",
      "Index(['question', 'answer', 'A', 'B', 'C', 'D', 'Category', 'Human Accuracy'], dtype='object')\n"
     ]
    }
   ],
   "source": [
    "print(df.head(3))\n",
    "print(df.columns)"
   ]
  }
 ],
 "metadata": {
  "kernelspec": {
   "display_name": ".venv",
   "language": "python",
   "name": "python3"
  },
  "language_info": {
   "codemirror_mode": {
    "name": "ipython",
    "version": 3
   },
   "file_extension": ".py",
   "mimetype": "text/x-python",
   "name": "python",
   "nbconvert_exporter": "python",
   "pygments_lexer": "ipython3",
   "version": "3.12.4"
  }
 },
 "nbformat": 4,
 "nbformat_minor": 5
}
